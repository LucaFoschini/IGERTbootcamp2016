{
 "cells": [
  {
   "cell_type": "markdown",
   "metadata": {},
   "source": [
    "# Everything Data (IGERT Bootcamp, Day 3)\n",
    "\n",
    "*Instructor:* [Luca Foschini](www.lucafoschini.com) (email: luca@evidation.com) (twitter: @calimagna)\n",
    "\n",
    "*Format:* Lecture and hands-on\n",
    "\n",
    "## Goals\n",
    "- Learn how perform basic data manipulation with python\n",
    "- See all the things that python can do\n",
    "- Learn about what makes your code run slow\n",
    "- Do you really have big data? "
   ]
  },
  {
   "cell_type": "markdown",
   "metadata": {},
   "source": [
    "## Data Ingestion, Wrangling, ETL\n",
    "\n",
    "  - 80% of Data Science is data wrangling. \n",
    "  - Python's library ecosystem is the first reason to use it!\n",
    "  - Pandas: if you learn one thing today, learn this!\n"
   ]
  },
  {
   "cell_type": "markdown",
   "metadata": {
    "collapsed": true
   },
   "source": [
    "### Everything has a Python API\n",
    "\n",
    "It's safe to say that every internet service has an API for Python:\n",
    "\n",
    "Examples: \n",
    " - Weather : https://github.com/csparpa/pyowm\n",
    " - Twitter: https://code.google.com/p/python-twitter/ \n",
    " - Fitbit: https://github.com/orcasgit/python-fitbit\n",
    " \n",
    "### Many Domain Specific Libraries\n",
    "\n",
    " - Natural Language Processing: http://www.nltk.org/ [Run the tutorial], see also : http://fbkarsdorp.github.io/python-course/\n",
    " - Graphs:  http://networkx.readthedocs.io/en/networkx-1.11/examples/drawing/ego_graph.html\n",
    " - Machine Learning: http://scikit-learn.org/stable/auto_examples/manifold/plot_lle_digits.html [Run the example]\n",
    " \n",
    "### Exotic:\n",
    " - Deep Learning: https://keras.io/\n",
    " - Survival analysis: https://github.com/CamDavidsonPilon/lifelines\n",
    " - Bayesian inference and MCMC: http://pymcmc.readthedocs.org/en/latest/\n",
    " \n",
    "Everything nicely integrated in notebooks, and can be easily turned into [slides](http://lucafoschini.com/notebooks/Agile%20Data%20Science%20Meetup.slides.html#/)\n",
    " "
   ]
  },
  {
   "cell_type": "code",
   "execution_count": 5,
   "metadata": {
    "collapsed": true
   },
   "outputs": [],
   "source": [
    "# Example 1:\n",
    "# do something fun with the weather API"
   ]
  },
  {
   "cell_type": "markdown",
   "metadata": {},
   "source": [
    "## Data Wrangling with Python and Pandas (tutorial)\n",
    "\n",
    "Introduction: http://pandas.pydata.org/pandas-docs/stable/10min.html\n",
    "\n",
    "Tutorial on data wrangling:\n",
    "\n",
    "https://github.com/jvns/pandas-cookbook"
   ]
  },
  {
   "cell_type": "code",
   "execution_count": null,
   "metadata": {
    "collapsed": false
   },
   "outputs": [],
   "source": [
    "# Run some exploration on tutorial\n",
    "%matplotlib inline\n",
    "import pandas as pd\n",
    "import matplotlib\n",
    "matplotlib.style.use('ggplot')\n",
    "#montreal weather\n",
    "weather_url = \"https://raw.githubusercontent.com/jvns/pandas-cookbook/master/data/weather_2012.csv\"\n",
    "\n",
    "weather_2012_final = pd.read_csv(weather_url, parse_dates='Date/Time', index_col='Date/Time')\n",
    "weather_2012_final['Temp (C)'].plot(figsize=(15, 6))\n",
    "#weather_2012_final.to_hdf()"
   ]
  },
  {
   "cell_type": "markdown",
   "metadata": {},
   "source": [
    "## Why is my code slow?\n",
    "\n",
    "  - Look under the hood: Memory hiearchies.\n",
    "  - Python is magic, magic isn't free: how built-in types are implemented and efficiency consideration\n",
    "  - Profiling and monitoring\n",
    "  - If everything else fails: go parallel. "
   ]
  },
  {
   "cell_type": "markdown",
   "metadata": {},
   "source": [
    "### Example of vectorization and timing\n",
    "\n",
    "http://nbviewer.jupyter.org/github/rossant/ipython-minibook/blob/master/chapter3/301-vector-computations.ipynb\n"
   ]
  },
  {
   "cell_type": "code",
   "execution_count": null,
   "metadata": {
    "collapsed": true
   },
   "outputs": [],
   "source": [
    "# Run the example above\n",
    "\n",
    "def closest(position, positions):\n",
    "    x0, y0 = position\n",
    "    dbest, ibest = None, None\n",
    "    for i, (x, y) in enumerate(positions):\n",
    "        d = (x - x0) ** 2 + (y - y0) ** 2\n",
    "        if dbest is None or d < dbest:\n",
    "            dbest, ibest = d, i\n",
    "    return ibest"
   ]
  },
  {
   "cell_type": "markdown",
   "metadata": {},
   "source": [
    "### One benchmark a day\n",
    "Goldmine: https://github.com/rasbt/One-Python-benchmark-per-day/tree/master/\n",
    "\n",
    "Try: \n",
    "    \n",
    "- [6 different ways for counting elements using a dictionary](http://nbviewer.jupyter.org/github/rasbt/One-Python-benchmark-per-day/blob/master/ipython_nbs/day3_dictionary_counting.ipynb)\n",
    "\n",
    "- [Python vs Cython vs Numba](http://nbviewer.jupyter.org/github/rasbt/One-Python-benchmark-per-day/blob/master/ipython_nbs/day4_python_cython_numba.ipynb)"
   ]
  },
  {
   "cell_type": "markdown",
   "metadata": {},
   "source": [
    "## Memory, cores, I/O\n",
    "  - [Latency](https://gist.github.com/jboner/2841832): Register, Cache, RAM, Disk (SSD/HDD), network\n",
    "  - Out of core vs distributed\n",
    "  - Embarrassingly parallel problems (shell/python parallel)"
   ]
  },
  {
   "cell_type": "code",
   "execution_count": 8,
   "metadata": {
    "collapsed": false
   },
   "outputs": [
    {
     "data": {
      "text/html": [
       "<img src=\"http://i.imgur.com/k0t1e.png\"/>"
      ],
      "text/plain": [
       "<IPython.core.display.Image object>"
      ]
     },
     "execution_count": 8,
     "metadata": {},
     "output_type": "execute_result"
    }
   ],
   "source": [
    "from IPython.display import Image\n",
    "Image(url='http://i.imgur.com/k0t1e.png')"
   ]
  },
  {
   "cell_type": "markdown",
   "metadata": {},
   "source": [
    "  \n",
    "### Scale:\n",
    "- Parallel : [doc](http://ipyparallel.readthedocs.io/en/latest/demos.html) and [example](http://nbviewer.ipython.org/gist/ogrisel/5115540/Model%20Selection%20for%20the%20Nystroem%20Method.ipynb)\n",
    "- Multiprocess : http://sebastianraschka.com/Articles/2014_multiprocessing_intro.html \n",
    "- Big Data (Spark and BDAS) https://spark.apache.org/examples.html"
   ]
  },
  {
   "cell_type": "code",
   "execution_count": 14,
   "metadata": {
    "collapsed": false
   },
   "outputs": [
    {
     "name": "stdout",
     "output_type": "stream",
     "text": [
      "Collecting ipyparallel\n",
      "  Downloading ipyparallel-5.2.0-py2.py3-none-any.whl (188kB)\n",
      "\u001b[K    100% |████████████████████████████████| 194kB 953kB/s \n",
      "\u001b[?25hRequirement already satisfied (use --upgrade to upgrade): ipykernel in /Users/lucafoschini/anaconda/lib/python2.7/site-packages (from ipyparallel)\n",
      "Requirement already satisfied (use --upgrade to upgrade): ipython>=4 in /Users/lucafoschini/anaconda/lib/python2.7/site-packages (from ipyparallel)\n",
      "Requirement already satisfied (use --upgrade to upgrade): pyzmq>=13 in /Users/lucafoschini/anaconda/lib/python2.7/site-packages (from ipyparallel)\n",
      "Requirement already satisfied (use --upgrade to upgrade): ipython-genutils in /Users/lucafoschini/anaconda/lib/python2.7/site-packages (from ipyparallel)\n",
      "Requirement already satisfied (use --upgrade to upgrade): decorator in /Users/lucafoschini/anaconda/lib/python2.7/site-packages (from ipyparallel)\n",
      "Requirement already satisfied (use --upgrade to upgrade): jupyter-client in /Users/lucafoschini/anaconda/lib/python2.7/site-packages (from ipyparallel)\n",
      "Requirement already satisfied (use --upgrade to upgrade): tornado>=4 in /Users/lucafoschini/anaconda/lib/python2.7/site-packages (from ipyparallel)\n",
      "Collecting futures; python_version == \"2.7\" (from ipyparallel)\n",
      "  Downloading futures-3.0.5-py2-none-any.whl\n",
      "Installing collected packages: futures, ipyparallel\n",
      "Successfully installed futures-3.0.5 ipyparallel-5.2.0\n"
     ]
    }
   ],
   "source": [
    "!pip install ipyparallel"
   ]
  },
  {
   "cell_type": "code",
   "execution_count": null,
   "metadata": {
    "collapsed": false
   },
   "outputs": [],
   "source": [
    "# Example: Run some parallel code\n",
    "from ipyparallel import Client\n",
    "client = Client()\n",
    "%px print(\"Hello from the cluster engines!\")"
   ]
  },
  {
   "cell_type": "markdown",
   "metadata": {},
   "source": [
    "## How to deal with big data?\n",
    "\n",
    "  - be smart: (sampling/approximation algorithms, divide-and-conquer)\n",
    "  - be rich: [rent-a-cloud](https://aws.amazon.com/ec2/pricing/), [Digital Ocean](https://www.digitalocean.com/), [Cloud9](https://c9.io/pricing)"
   ]
  },
  {
   "cell_type": "markdown",
   "metadata": {
    "collapsed": true
   },
   "source": [
    "## Network analysis with NetworkX\n",
    "\n",
    "Intro and examples [here](http://networkx.github.io/)"
   ]
  },
  {
   "cell_type": "code",
   "execution_count": null,
   "metadata": {
    "collapsed": true
   },
   "outputs": [],
   "source": [
    "%matplotlib inline\n",
    "import networkx as nx\n",
    "import matplotlib.pyplot as plt\n",
    "from IPython.display import Image\n",
    "n = 10\n",
    "m = 20\n",
    "rgraph1 = nx.gnm_random_graph(n,m)\n",
    "print \"Nodes: \", rgraph1.nodes()\n",
    "print \"Edges: \", rgraph1.edges()"
   ]
  },
  {
   "cell_type": "code",
   "execution_count": null,
   "metadata": {
    "collapsed": true
   },
   "outputs": [],
   "source": [
    "if nx.is_connected(rgraph1):\n",
    "    print \"Graph is connected\"\n",
    "else:\n",
    "    print \"Graph is not connected\""
   ]
  },
  {
   "cell_type": "code",
   "execution_count": null,
   "metadata": {
    "collapsed": true
   },
   "outputs": [],
   "source": [
    "print \"Diameter of graph is \", nx.diameter(rgraph1)\n",
    "nx.draw(rgraph1)\n",
    "plt.draw()"
   ]
  },
  {
   "cell_type": "code",
   "execution_count": null,
   "metadata": {
    "collapsed": true
   },
   "outputs": [],
   "source": [
    "elarge=[(u,v) for (u,v) in rgraph1.edges() if u + v  >= 9]\n",
    "esmall=[(u,v) for (u,v) in rgraph1.edges() if u + v < 9]\n",
    "\n",
    "pos=nx.spring_layout(rgraph1) # positions for all nodes\n",
    "\n",
    "# nodes\n",
    "nx.draw_networkx_nodes(rgraph1,pos,node_size=700)\n",
    "\n",
    "# edges\n",
    "nx.draw_networkx_edges(rgraph1,pos,edgelist=elarge,\n",
    "                    width=6,edge_color='r')\n",
    "nx.draw_networkx_edges(rgraph1,pos,edgelist=esmall,\n",
    "                    width=6,alpha=0.5,edge_color='b',style='dashed')\n",
    "\n",
    "# labels\n",
    "nx.draw_networkx_labels(rgraph1,pos,font_size=20,)\n",
    "\n",
    "plt.axis('off')\n",
    "plt.savefig(\"data/weighted_graph.png\") # save as png\n",
    "plt.show() # display"
   ]
  },
  {
   "cell_type": "code",
   "execution_count": null,
   "metadata": {
    "collapsed": true
   },
   "outputs": [],
   "source": [
    "T = nx.dfs_tree(rgraph1,0)\n",
    "print \"DFS Tree edges : \", T.edges()\n",
    "\n",
    "T = nx.bfs_tree(rgraph1, 0)\n",
    "print \"BFS Tree edges : \", T.edges()"
   ]
  },
  {
   "cell_type": "markdown",
   "metadata": {},
   "source": [
    "## Galleries and miniproject\n",
    "\n",
    "- [Interesting notebook gallery](https://github.com/ipython/ipython/wiki/A-gallery-of-interesting-IPython-Notebooks#introductory-tutorials). Pick one!\n",
    "\n",
    "### Miniproject\n",
    "                                 \n",
    "Extend the analysis provided here:\n",
    "\n",
    "http://nbviewer.ipython.org/github/rossant/ipython-minibook/blob/master/chapter3/303-cities-data-explore.ipynb   \n",
    "                                 \n",
    "1. What is the city that has the most other cities in a 10-mile radius from it?\n",
    "2. How many cities have no other city in 10 miles from them? Where are they mostly located?\n",
    "3. What is the distribution of the number of cities within a 10-mile radius from a city? What about varying the radius using interact() ?"
   ]
  },
  {
   "cell_type": "code",
   "execution_count": null,
   "metadata": {
    "collapsed": true
   },
   "outputs": [],
   "source": []
  }
 ],
 "metadata": {
  "kernelspec": {
   "display_name": "Python 2",
   "language": "python",
   "name": "python2"
  },
  "language_info": {
   "codemirror_mode": {
    "name": "ipython",
    "version": 2
   },
   "file_extension": ".py",
   "mimetype": "text/x-python",
   "name": "python",
   "nbconvert_exporter": "python",
   "pygments_lexer": "ipython2",
   "version": "2.7.12"
  }
 },
 "nbformat": 4,
 "nbformat_minor": 0
}
