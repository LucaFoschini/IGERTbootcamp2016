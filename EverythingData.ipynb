{
 "cells": [
  {
   "cell_type": "markdown",
   "metadata": {},
   "source": [
    "# Everything Data (IGERT Bootcamp, Day 3)\n",
    "\n",
    "*Instructor:* [Luca Foschini](www.lucafoschini.com) (email: luca@evidation.com) (twitter: @calimagna)\n",
    "\n",
    "*Format:* Lecture and hands-on\n",
    "\n",
    "## Goals\n",
    "- Learn how perform basic data manipulation with python\n",
    "- See all the things that python can do\n",
    "- Learn about what makes your code run slow\n",
    "- Do you really have big data? "
   ]
  },
  {
   "cell_type": "markdown",
   "metadata": {},
   "source": [
    "## Data Ingestion, Wrangling, ETL\n",
    "\n",
    "  - 80% of Data Science is data wrangling. \n",
    "  - Python's library ecosystem is the first reason to use it!\n",
    "  - Pandas: if you learn one thing today, learn this!\n"
   ]
  },
  {
   "cell_type": "markdown",
   "metadata": {
    "collapsed": true
   },
   "source": [
    "### Everything has a Python API\n",
    "\n",
    "It's safe to say that every internet service has an API for Python:\n",
    "\n",
    "Examples: \n",
    " - Weather : https://github.com/csparpa/pyowm\n",
    " - Twitter: https://code.google.com/p/python-twitter/ \n",
    " - Fitbit: https://github.com/orcasgit/python-fitbit\n",
    " \n",
    "### Many Domain Specific Libraries\n",
    "\n",
    " - Natural Language Processing: http://www.nltk.org/ [Run the tutorial], see also : http://fbkarsdorp.github.io/python-course/\n",
    " - Graphs:  http://networkx.readthedocs.io/en/networkx-1.11/examples/drawing/ego_graph.html\n",
    " - Machine Learning: http://scikit-learn.org/stable/auto_examples/manifold/plot_lle_digits.html [Run the example]\n",
    " \n",
    "### Exotic:\n",
    " - Deep Learning: https://keras.io/\n",
    " - Survival analysis: https://github.com/CamDavidsonPilon/lifelines\n",
    " - Bayesian inference and MCMC: http://pymcmc.readthedocs.org/en/latest/\n",
    " "
   ]
  },
  {
   "cell_type": "code",
   "execution_count": 5,
   "metadata": {
    "collapsed": true
   },
   "outputs": [],
   "source": [
    "# Example 1:\n",
    "# do something fun with the weather API"
   ]
  },
  {
   "cell_type": "markdown",
   "metadata": {},
   "source": [
    "## Data Wrangling with Python and Pandas (tutorial)\n",
    "\n",
    "Introduction: http://pandas.pydata.org/pandas-docs/stable/10min.html\n",
    "\n",
    "Tutorial on data wrangling:\n",
    "\n",
    "https://github.com/jvns/pandas-cookbook"
   ]
  },
  {
   "cell_type": "code",
   "execution_count": null,
   "metadata": {
    "collapsed": false
   },
   "outputs": [],
   "source": [
    "# Run some exploration on tutorial\n",
    "%matplotlib inline\n",
    "import pandas as pd\n",
    "import matplotlib\n",
    "matplotlib.style.use('ggplot')\n",
    "#montreal weather\n",
    "weather_url = \"https://raw.githubusercontent.com/jvns/pandas-cookbook/master/data/weather_2012.csv\"\n",
    "\n",
    "weather_2012_final = pd.read_csv(weather_url, parse_dates='Date/Time', index_col='Date/Time')\n",
    "weather_2012_final['Temp (C)'].plot(figsize=(15, 6))"
   ]
  },
  {
   "cell_type": "markdown",
   "metadata": {},
   "source": [
    "## Why is my code slow?\n",
    "\n",
    "  - Look under the hood: Memory hiearchies.\n",
    "  - Python is magic, magic isn't free: how built-in types are implemented and efficiency consideration\n",
    "  - Profiling and monitoring\n",
    "  - If everything else fails: go parallel. "
   ]
  },
  {
   "cell_type": "markdown",
   "metadata": {},
   "source": [
    "### Example of vectorization and timing\n",
    "\n",
    "http://nbviewer.jupyter.org/github/rossant/ipython-minibook/blob/master/chapter3/301-vector-computations.ipynb\n"
   ]
  },
  {
   "cell_type": "code",
   "execution_count": null,
   "metadata": {
    "collapsed": true
   },
   "outputs": [],
   "source": [
    "# Run the example above\n",
    "\n",
    "def closest(position, positions):\n",
    "    x0, y0 = position\n",
    "    dbest, ibest = None, None\n",
    "    for i, (x, y) in enumerate(positions):\n",
    "        d = (x - x0) ** 2 + (y - y0) ** 2\n",
    "        if dbest is None or d < dbest:\n",
    "            dbest, ibest = d, i\n",
    "    return ibest"
   ]
  },
  {
   "cell_type": "markdown",
   "metadata": {},
   "source": [
    "### One benchmark a day\n",
    "Goldmine: https://github.com/rasbt/One-Python-benchmark-per-day/tree/master/\n",
    "\n",
    "Try: \n",
    "    \n",
    "- [6 different ways for counting elements using a dictionary](http://nbviewer.jupyter.org/github/rasbt/One-Python-benchmark-per-day/blob/master/ipython_nbs/day3_dictionary_counting.ipynb)\n",
    "\n",
    "- [Python vs Cython vs Numba](http://nbviewer.jupyter.org/github/rasbt/One-Python-benchmark-per-day/blob/master/ipython_nbs/day4_python_cython_numba.ipynb)"
   ]
  },
  {
   "cell_type": "markdown",
   "metadata": {},
   "source": [
    "## Memory, cores, I/O\n",
    "  - [Latency](https://gist.github.com/jboner/2841832): Register, Cache, RAM, Disk (SSD/HDD), network\n",
    "  - Out of core vs distributed\n",
    "  - Embarrassingly parallel problems (shell/python parallel)\n",
    "  \n",
    "  ### Scale:\n",
    "- Multiprocess : http://sebastianraschka.com/Articles/2014_multiprocessing_intro.html [Run the tutorial]\n",
    "- Parallel : http://nbviewer.ipython.org/gist/ogrisel/5115540/Model%20Selection%20for%20the%20Nystroem%20Method.ipynb\n",
    "- Big Data (Spark and BDAS) https://spark.apache.org/examples.html\n",
    "\n",
    "\n",
    "## How to deal with big data?\n",
    "\n",
    "  - be smart: (sampling/approximation algorithms, divide-and-conquer)\n",
    "  - be rich: [rent-a-cloud](https://aws.amazon.com/ec2/pricing/), [Digital Ocean](https://www.digitalocean.com/), [Cloud9](https://c9.io/pricing)\n",
    "  \n",
    "## Data Exploration\n",
    "\n",
    "- Work with text, networks, time series. \n",
    "  - Examples, miniprojects, resources.\n",
    "\n",
    "\n",
    "  - [Interesting notebook gallery](https://github.com/ipython/ipython/wiki/A-gallery-of-interesting-IPython-Notebooks#introductory-tutorials). Pick one!\n",
    "  - [Miniproject](..//Day02_EverythingData/notebooks/07%20-%20Miniproject.ipynb)\n",
    "\n"
   ]
  },
  {
   "cell_type": "code",
   "execution_count": null,
   "metadata": {
    "collapsed": true
   },
   "outputs": [],
   "source": []
  }
 ],
 "metadata": {
  "kernelspec": {
   "display_name": "Python 2",
   "language": "python",
   "name": "python2"
  },
  "language_info": {
   "codemirror_mode": {
    "name": "ipython",
    "version": 2
   },
   "file_extension": ".py",
   "mimetype": "text/x-python",
   "name": "python",
   "nbconvert_exporter": "python",
   "pygments_lexer": "ipython2",
   "version": "2.7.12"
  }
 },
 "nbformat": 4,
 "nbformat_minor": 0
}
